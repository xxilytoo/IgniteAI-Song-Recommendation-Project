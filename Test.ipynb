{
  "cells": [
    {
      "cell_type": "code",
      "execution_count": 45,
      "metadata": {
        "id": "dU2O8_68NMBz"
      },
      "outputs": [],
      "source": [
        "import pandas as pd"
      ]
    },
    {
      "cell_type": "code",
      "execution_count": 46,
      "metadata": {
        "colab": {
          "base_uri": "https://localhost:8080/",
          "height": 206
        },
        "id": "LX8aoYobNbAB",
        "outputId": "1a72b211-a77b-453e-ef1f-ddce21c82a54"
      },
      "outputs": [
        {
          "data": {
            "text/html": [
              "<div>\n",
              "<style scoped>\n",
              "    .dataframe tbody tr th:only-of-type {\n",
              "        vertical-align: middle;\n",
              "    }\n",
              "\n",
              "    .dataframe tbody tr th {\n",
              "        vertical-align: top;\n",
              "    }\n",
              "\n",
              "    .dataframe thead th {\n",
              "        text-align: right;\n",
              "    }\n",
              "</style>\n",
              "<table border=\"1\" class=\"dataframe\">\n",
              "  <thead>\n",
              "    <tr style=\"text-align: right;\">\n",
              "      <th></th>\n",
              "      <th>tweet_id</th>\n",
              "      <th>sentiment</th>\n",
              "      <th>content</th>\n",
              "    </tr>\n",
              "  </thead>\n",
              "  <tbody>\n",
              "    <tr>\n",
              "      <th>0</th>\n",
              "      <td>1956967341</td>\n",
              "      <td>empty</td>\n",
              "      <td>@tiffanylue i know  i was listenin to bad habi...</td>\n",
              "    </tr>\n",
              "    <tr>\n",
              "      <th>1</th>\n",
              "      <td>1956967666</td>\n",
              "      <td>sadness</td>\n",
              "      <td>Layin n bed with a headache  ughhhh...waitin o...</td>\n",
              "    </tr>\n",
              "    <tr>\n",
              "      <th>2</th>\n",
              "      <td>1956967696</td>\n",
              "      <td>sadness</td>\n",
              "      <td>Funeral ceremony...gloomy friday...</td>\n",
              "    </tr>\n",
              "    <tr>\n",
              "      <th>3</th>\n",
              "      <td>1956967789</td>\n",
              "      <td>enthusiasm</td>\n",
              "      <td>wants to hang out with friends SOON!</td>\n",
              "    </tr>\n",
              "    <tr>\n",
              "      <th>4</th>\n",
              "      <td>1956968416</td>\n",
              "      <td>neutral</td>\n",
              "      <td>@dannycastillo We want to trade with someone w...</td>\n",
              "    </tr>\n",
              "  </tbody>\n",
              "</table>\n",
              "</div>"
            ],
            "text/plain": [
              "     tweet_id   sentiment                                            content\n",
              "0  1956967341       empty  @tiffanylue i know  i was listenin to bad habi...\n",
              "1  1956967666     sadness  Layin n bed with a headache  ughhhh...waitin o...\n",
              "2  1956967696     sadness                Funeral ceremony...gloomy friday...\n",
              "3  1956967789  enthusiasm               wants to hang out with friends SOON!\n",
              "4  1956968416     neutral  @dannycastillo We want to trade with someone w..."
            ]
          },
          "execution_count": 46,
          "metadata": {},
          "output_type": "execute_result"
        }
      ],
      "source": [
        "df = pd.read_csv(\"tweet_emotions.csv\")\n",
        "df.head()"
      ]
    },
    {
      "cell_type": "code",
      "execution_count": 47,
      "metadata": {
        "colab": {
          "base_uri": "https://localhost:8080/",
          "height": 206
        },
        "id": "NRAvc__VNjXV",
        "outputId": "c0a6cde2-9548-48b4-b363-5788b8282d36"
      },
      "outputs": [
        {
          "data": {
            "text/html": [
              "<div>\n",
              "<style scoped>\n",
              "    .dataframe tbody tr th:only-of-type {\n",
              "        vertical-align: middle;\n",
              "    }\n",
              "\n",
              "    .dataframe tbody tr th {\n",
              "        vertical-align: top;\n",
              "    }\n",
              "\n",
              "    .dataframe thead th {\n",
              "        text-align: right;\n",
              "    }\n",
              "</style>\n",
              "<table border=\"1\" class=\"dataframe\">\n",
              "  <thead>\n",
              "    <tr style=\"text-align: right;\">\n",
              "      <th></th>\n",
              "      <th>sentiment</th>\n",
              "      <th>content</th>\n",
              "    </tr>\n",
              "  </thead>\n",
              "  <tbody>\n",
              "    <tr>\n",
              "      <th>0</th>\n",
              "      <td>empty</td>\n",
              "      <td>@tiffanylue i know  i was listenin to bad habi...</td>\n",
              "    </tr>\n",
              "    <tr>\n",
              "      <th>1</th>\n",
              "      <td>sadness</td>\n",
              "      <td>Layin n bed with a headache  ughhhh...waitin o...</td>\n",
              "    </tr>\n",
              "    <tr>\n",
              "      <th>2</th>\n",
              "      <td>sadness</td>\n",
              "      <td>Funeral ceremony...gloomy friday...</td>\n",
              "    </tr>\n",
              "    <tr>\n",
              "      <th>3</th>\n",
              "      <td>enthusiasm</td>\n",
              "      <td>wants to hang out with friends SOON!</td>\n",
              "    </tr>\n",
              "    <tr>\n",
              "      <th>4</th>\n",
              "      <td>neutral</td>\n",
              "      <td>@dannycastillo We want to trade with someone w...</td>\n",
              "    </tr>\n",
              "  </tbody>\n",
              "</table>\n",
              "</div>"
            ],
            "text/plain": [
              "    sentiment                                            content\n",
              "0       empty  @tiffanylue i know  i was listenin to bad habi...\n",
              "1     sadness  Layin n bed with a headache  ughhhh...waitin o...\n",
              "2     sadness                Funeral ceremony...gloomy friday...\n",
              "3  enthusiasm               wants to hang out with friends SOON!\n",
              "4     neutral  @dannycastillo We want to trade with someone w..."
            ]
          },
          "execution_count": 47,
          "metadata": {},
          "output_type": "execute_result"
        }
      ],
      "source": [
        "df = df.drop(columns=[\"tweet_id\"])\n",
        "df.head()"
      ]
    },
    {
      "cell_type": "code",
      "execution_count": 48,
      "metadata": {
        "colab": {
          "base_uri": "https://localhost:8080/",
          "height": 206
        },
        "id": "1IJnT3TtNxk2",
        "outputId": "2a02a83c-0fd1-4796-ae17-4484f45de7a4"
      },
      "outputs": [
        {
          "data": {
            "text/html": [
              "<div>\n",
              "<style scoped>\n",
              "    .dataframe tbody tr th:only-of-type {\n",
              "        vertical-align: middle;\n",
              "    }\n",
              "\n",
              "    .dataframe tbody tr th {\n",
              "        vertical-align: top;\n",
              "    }\n",
              "\n",
              "    .dataframe thead th {\n",
              "        text-align: right;\n",
              "    }\n",
              "</style>\n",
              "<table border=\"1\" class=\"dataframe\">\n",
              "  <thead>\n",
              "    <tr style=\"text-align: right;\">\n",
              "      <th></th>\n",
              "      <th>sentiment</th>\n",
              "      <th>content</th>\n",
              "    </tr>\n",
              "  </thead>\n",
              "  <tbody>\n",
              "    <tr>\n",
              "      <th>39995</th>\n",
              "      <td>neutral</td>\n",
              "      <td>@JohnLloydTaylor</td>\n",
              "    </tr>\n",
              "    <tr>\n",
              "      <th>39996</th>\n",
              "      <td>love</td>\n",
              "      <td>Happy Mothers Day  All my love</td>\n",
              "    </tr>\n",
              "    <tr>\n",
              "      <th>39997</th>\n",
              "      <td>love</td>\n",
              "      <td>Happy Mother's Day to all the mommies out ther...</td>\n",
              "    </tr>\n",
              "    <tr>\n",
              "      <th>39998</th>\n",
              "      <td>happiness</td>\n",
              "      <td>@niariley WASSUP BEAUTIFUL!!! FOLLOW ME!!  PEE...</td>\n",
              "    </tr>\n",
              "    <tr>\n",
              "      <th>39999</th>\n",
              "      <td>love</td>\n",
              "      <td>@mopedronin bullet train from tokyo    the gf ...</td>\n",
              "    </tr>\n",
              "  </tbody>\n",
              "</table>\n",
              "</div>"
            ],
            "text/plain": [
              "       sentiment                                            content\n",
              "39995    neutral                                   @JohnLloydTaylor\n",
              "39996       love                     Happy Mothers Day  All my love\n",
              "39997       love  Happy Mother's Day to all the mommies out ther...\n",
              "39998  happiness  @niariley WASSUP BEAUTIFUL!!! FOLLOW ME!!  PEE...\n",
              "39999       love  @mopedronin bullet train from tokyo    the gf ..."
            ]
          },
          "execution_count": 48,
          "metadata": {},
          "output_type": "execute_result"
        }
      ],
      "source": [
        "df.tail()"
      ]
    },
    {
      "cell_type": "code",
      "execution_count": 49,
      "metadata": {
        "colab": {
          "base_uri": "https://localhost:8080/"
        },
        "id": "F0rK4oBeOMiJ",
        "outputId": "50905413-9f25-4f39-bc33-301bfe54c581"
      },
      "outputs": [
        {
          "data": {
            "text/plain": [
              "sentiment    0\n",
              "content      0\n",
              "dtype: int64"
            ]
          },
          "execution_count": 49,
          "metadata": {},
          "output_type": "execute_result"
        }
      ],
      "source": [
        "df.isnull().sum()"
      ]
    },
    {
      "cell_type": "code",
      "execution_count": 50,
      "metadata": {
        "id": "jPy740vrBrJl"
      },
      "outputs": [],
      "source": [
        "import re\n",
        "import numpy as np\n",
        "import matplotlib.pyplot as plt\n",
        "\n",
        "import tensorflow as tf\n",
        "from tensorflow import keras\n",
        "from keras import layers, models\n",
        "\n",
        "from sklearn.feature_extraction.text import CountVectorizer\n",
        "from sklearn.model_selection import train_test_split\n",
        "from sklearn.utils.class_weight import compute_class_weight\n",
        "\n",
        "from sklearn.metrics import classification_report\n",
        "from sklearn.metrics import ConfusionMatrixDisplay\n",
        "\n",
        "import nltk\n",
        "from nltk.corpus import stopwords\n",
        "from nltk.stem import WordNetLemmatizer"
      ]
    },
    {
      "cell_type": "code",
      "execution_count": 51,
      "metadata": {
        "colab": {
          "base_uri": "https://localhost:8080/"
        },
        "id": "LZRHH2mdBWTr",
        "outputId": "ef7318e9-4c47-4c63-ce67-ee0b588e6d5a"
      },
      "outputs": [
        {
          "data": {
            "text/plain": [
              "array(['empty', 'sadness', 'enthusiasm', 'neutral', 'worry', 'surprise',\n",
              "       'love', 'fun', 'hate', 'happiness', 'boredom', 'relief', 'anger'],\n",
              "      dtype=object)"
            ]
          },
          "execution_count": 51,
          "metadata": {},
          "output_type": "execute_result"
        }
      ],
      "source": [
        "df[\"sentiment\"].unique()"
      ]
    },
    {
      "cell_type": "code",
      "execution_count": 52,
      "metadata": {
        "colab": {
          "base_uri": "https://localhost:8080/"
        },
        "id": "hg9osGtWCVTx",
        "outputId": "c81de14e-5c9a-42d7-8ce6-6f52ff2cf886"
      },
      "outputs": [
        {
          "name": "stderr",
          "output_type": "stream",
          "text": [
            "C:\\Users\\kenha\\AppData\\Local\\Temp\\ipykernel_19964\\3535837221.py:3: UserWarning: Pandas doesn't allow columns to be created via a new attribute name - see https://pandas.pydata.org/pandas-docs/stable/indexing.html#attribute-access\n",
            "  df.label = df.sentiment.cat.remove_unused_categories()\n"
          ]
        }
      ],
      "source": [
        "df = df[ (df.sentiment == 'happiness') | (df.sentiment == 'sadness') | (df.sentiment == 'love') | (df.sentiment == 'suprise') | (df.sentiment == 'worry')]\n",
        "df[\"sentiment\"] = df[\"sentiment\"].astype(\"category\")\n",
        "df.label = df.sentiment.cat.remove_unused_categories()"
      ]
    },
    {
      "cell_type": "code",
      "execution_count": 53,
      "metadata": {
        "id": "Rnn7YM3dDaAk"
      },
      "outputs": [],
      "source": [
        "sentiment_names = df.sentiment.cat.categories.tolist()"
      ]
    },
    {
      "cell_type": "code",
      "execution_count": 54,
      "metadata": {
        "colab": {
          "base_uri": "https://localhost:8080/"
        },
        "id": "j2_PFsAZDgkh",
        "outputId": "e65db4cd-bdcb-45fc-bfa4-807e76bdf44e"
      },
      "outputs": [
        {
          "name": "stdout",
          "output_type": "stream",
          "text": [
            "len(train_df)=18140, len(test_df)=4535\n",
            "['happiness', 'love', 'sadness', 'worry']\n"
          ]
        }
      ],
      "source": [
        "train_df, test_df = train_test_split(df, test_size=0.2, random_state=52)\n",
        "\n",
        "print(f'{len(train_df)=}, {len(test_df)=}')\n",
        "print(sentiment_names)"
      ]
    },
    {
      "cell_type": "code",
      "execution_count": 55,
      "metadata": {
        "colab": {
          "base_uri": "https://localhost:8080/",
          "height": 291
        },
        "id": "e8s8SeZoDlCz",
        "outputId": "9a2c77b4-9baf-465d-b77d-b79eaa2b1cb7"
      },
      "outputs": [
        {
          "data": {
            "image/png": "[encoded data removed]",
            "text/plain": [
              "<Figure size 1200x300 with 1 Axes>"
            ]
          },
          "metadata": {},
          "output_type": "display_data"
        }
      ],
      "source": [
        "plt.figure(figsize=(12,3))\n",
        "plt.bar(x = sentiment_names, height = np.bincount(df['sentiment'].cat.codes))\n",
        "\n",
        "store = np.array(['happiness', 'love', 'sadness', 'worry'])\n",
        "\n",
        "class_weights = dict(enumerate(\n",
        "    compute_class_weight(\n",
        "        class_weight=\"balanced\",\n",
        "        classes=np.unique(store),\n",
        "        y=df['sentiment']\n",
        "    )\n",
        "))"
      ]
    },
    {
      "cell_type": "code",
      "execution_count": 56,
      "metadata": {
        "colab": {
          "base_uri": "https://localhost:8080/"
        },
        "id": "SJD4VgAdD4MW",
        "outputId": "1e50e4ee-29a2-4f07-91f4-f751f2fbc8ee"
      },
      "outputs": [
        {
          "name": "stderr",
          "output_type": "stream",
          "text": [
            "[nltk_data] Downloading package stopwords to\n",
            "[nltk_data]     C:\\Users\\kenha\\AppData\\Roaming\\nltk_data...\n",
            "[nltk_data]   Package stopwords is already up-to-date!\n"
          ]
        },
        {
          "data": {
            "text/plain": [
              "True"
            ]
          },
          "execution_count": 56,
          "metadata": {},
          "output_type": "execute_result"
        }
      ],
      "source": [
        "nltk.download('stopwords')"
      ]
    },
    {
      "cell_type": "code",
      "execution_count": 57,
      "metadata": {
        "id": "JvYsOGYQD0Sz"
      },
      "outputs": [
        {
          "name": "stderr",
          "output_type": "stream",
          "text": [
            "<>:1: SyntaxWarning: invalid escape sequence '\\['\n",
            "<>:3: SyntaxWarning: invalid escape sequence '\\d'\n",
            "<>:10: SyntaxWarning: invalid escape sequence '\\S'\n",
            "<>:11: SyntaxWarning: invalid escape sequence '\\w'\n",
            "<>:12: SyntaxWarning: invalid escape sequence '\\['\n",
            "<>:14: SyntaxWarning: invalid escape sequence '\\d'\n",
            "<>:1: SyntaxWarning: invalid escape sequence '\\['\n",
            "<>:3: SyntaxWarning: invalid escape sequence '\\d'\n",
            "<>:10: SyntaxWarning: invalid escape sequence '\\S'\n",
            "<>:11: SyntaxWarning: invalid escape sequence '\\w'\n",
            "<>:12: SyntaxWarning: invalid escape sequence '\\['\n",
            "<>:14: SyntaxWarning: invalid escape sequence '\\d'\n",
            "C:\\Users\\kenha\\AppData\\Local\\Temp\\ipykernel_19964\\3043783641.py:1: SyntaxWarning: invalid escape sequence '\\['\n",
            "  REPLACE_BY_SPACE_RE = re.compile('[/(){}\\[\\]\\|@,;]')    # add/remove regex as required\n",
            "C:\\Users\\kenha\\AppData\\Local\\Temp\\ipykernel_19964\\3043783641.py:3: SyntaxWarning: invalid escape sequence '\\d'\n",
            "  NUMBERS = re.compile('\\d+')\n",
            "C:\\Users\\kenha\\AppData\\Local\\Temp\\ipykernel_19964\\3043783641.py:10: SyntaxWarning: invalid escape sequence '\\S'\n",
            "  text = tf.strings.regex_replace(text, 'http\\S+', '')\n",
            "C:\\Users\\kenha\\AppData\\Local\\Temp\\ipykernel_19964\\3043783641.py:11: SyntaxWarning: invalid escape sequence '\\w'\n",
            "  text = tf.strings.regex_replace(text, '([@#][A-Za-z0-9_]+)|(\\w+:\\/\\/\\S+)', ' ')\n",
            "C:\\Users\\kenha\\AppData\\Local\\Temp\\ipykernel_19964\\3043783641.py:12: SyntaxWarning: invalid escape sequence '\\['\n",
            "  text = tf.strings.regex_replace(text, '[/(){}\\[\\]\\|@,;]', ' ')\n",
            "C:\\Users\\kenha\\AppData\\Local\\Temp\\ipykernel_19964\\3043783641.py:14: SyntaxWarning: invalid escape sequence '\\d'\n",
            "  text = tf.strings.regex_replace(text, '[\\d+]', '')\n"
          ]
        }
      ],
      "source": [
        "REPLACE_BY_SPACE_RE = re.compile('[/(){}\\[\\]\\|@,;]')    # add/remove regex as required\n",
        "BAD_SYMBOLS_RE = re.compile('[^0-9a-z #+_]')\n",
        "NUMBERS = re.compile('\\d+')\n",
        "\n",
        "STOPWORDS = set(stopwords.words('english'))\n",
        "lemmatizer = WordNetLemmatizer()\n",
        "\n",
        "def clean_text(text):\n",
        "    text = tf.strings.lower(text)\n",
        "    text = tf.strings.regex_replace(text, 'http\\S+', '')\n",
        "    text = tf.strings.regex_replace(text, '([@#][A-Za-z0-9_]+)|(\\w+:\\/\\/\\S+)', ' ')\n",
        "    text = tf.strings.regex_replace(text, '[/(){}\\[\\]\\|@,;]', ' ')\n",
        "    text = tf.strings.regex_replace(text, '[^0-9a-z #+_]', '')\n",
        "    text = tf.strings.regex_replace(text, '[\\d+]', '')\n",
        "    return text\n",
        "\n",
        "def lemmatize_tokenize(text):\n",
        "    # TODO: rework to use tf.strings\n",
        "    # remove stopwords and lemmatize\n",
        "    tokens = [word for word in text.split() if word not in STOPWORDS]\n",
        "    tokens = [lemmatizer.lemmatize(token) for token in tokens]\n",
        "    return tokens"
      ]
    },
    {
      "cell_type": "code",
      "execution_count": 58,
      "metadata": {
        "id": "u4MAYBmnD8eI"
      },
      "outputs": [],
      "source": [
        "N_CLASSES = len(sentiment_names)\n",
        "MAX_FEATURES = 20000\n",
        "MAX_SEQ_LEN = 1000\n",
        "EMBEDDING_DIM = 100\n",
        "\n",
        "vectorizer_layer = layers.TextVectorization(\n",
        "    max_tokens=MAX_FEATURES,\n",
        "    standardize=clean_text,\n",
        "#     split=lemmatize_tokenize,\n",
        "    output_sequence_length=MAX_SEQ_LEN,\n",
        "    output_mode='int'\n",
        ")\n",
        "vectorizer_layer.adapt(train_df.content)\n",
        "\n",
        "vectorizer_layer.trainable = True"
      ]
    },
    {
      "cell_type": "code",
      "execution_count": 59,
      "metadata": {
        "id": "FSu6HYgsFzsC"
      },
      "outputs": [],
      "source": [
        "# Download and load pre-trained GloVe embeddings\n",
        "#!wget http://nlp.stanford.edu/data/glove.6B.zip\n",
        "#!unzip glove.6B.zip"
      ]
    },
    {
      "cell_type": "code",
      "execution_count": 60,
      "metadata": {
        "id": "q-r6fffpHcbr"
      },
      "outputs": [],
      "source": [
        "# Load GloVe embeddings into memory\n",
        "embeddings_index = {}\n",
        "with open('glove.6B.100d.txt', encoding='utf-8') as f:\n",
        "    for line in f:\n",
        "        values = line.split()\n",
        "        word = values[0]\n",
        "        coefs = np.asarray(values[1:], dtype='float32')\n",
        "        embeddings_index[word] = coefs"
      ]
    },
    {
      "cell_type": "code",
      "execution_count": 61,
      "metadata": {
        "id": "-mdIE-AVG_LP"
      },
      "outputs": [],
      "source": [
        "# Get the vocabulary from the vectorizer layer\n",
        "vocabulary = vectorizer_layer.get_vocabulary()\n",
        "\n",
        "# Create a mapping from token to index\n",
        "word_index = dict(zip(vocabulary, range(len(vocabulary))))\n",
        "\n",
        "# Create embedding matrix\n",
        "embedding_matrix = np.zeros((len(vocabulary), EMBEDDING_DIM))\n",
        "for word, i in word_index.items():\n",
        "    if i < MAX_FEATURES:\n",
        "        embedding_vector = embeddings_index.get(word)\n",
        "        if embedding_vector is not None:\n",
        "            embedding_matrix[i] = embedding_vector\n"
      ]
    },
    {
      "cell_type": "code",
      "execution_count": 62,
      "metadata": {
        "id": "0Xop1ISSEDW0"
      },
      "outputs": [],
      "source": [
        "model = models.Sequential([\n",
        "    keras.Input(shape=(1,), dtype=tf.string),\n",
        "    vectorizer_layer,\n",
        "    layers.Embedding(MAX_FEATURES, EMBEDDING_DIM),\n",
        "\n",
        "    layers.SpatialDropout1D(0.2),\n",
        "    layers.GlobalMaxPooling1D(),\n",
        "    layers.Dropout(0.4),\n",
        "    layers.Dense(256, activation='gelu'),\n",
        "    layers.Dropout(0.4),\n",
        "    layers.Dense(N_CLASSES, activation='softmax'),\n",
        "])\n",
        "\n",
        "model.compile(\n",
        "    optimizer='adam',\n",
        "    loss='sparse_categorical_crossentropy',\n",
        "    metrics=['accuracy']\n",
        ")"
      ]
    },
    {
      "cell_type": "code",
      "execution_count": 63,
      "metadata": {
        "colab": {
          "base_uri": "https://localhost:8080/"
        },
        "id": "S0HFznaVEHQI",
        "outputId": "51532f8c-2b91-4407-ae67-9eee2a8da49d"
      },
      "outputs": [
        {
          "name": "stdout",
          "output_type": "stream",
          "text": [
            "Epoch 1/300\n",
            "\u001b[1m71/71\u001b[0m \u001b[32m━━━━━━━━━━━━━━━━━━━━\u001b[0m\u001b[37m\u001b[0m \u001b[1m12s\u001b[0m 148ms/step - accuracy: 0.2567 - loss: 1.3863 - val_accuracy: 0.4218 - val_loss: 1.3612\n",
            "Epoch 2/300\n",
            "\u001b[1m71/71\u001b[0m \u001b[32m━━━━━━━━━━━━━━━━━━━━\u001b[0m\u001b[37m\u001b[0m \u001b[1m11s\u001b[0m 154ms/step - accuracy: 0.3746 - loss: 1.3299 - val_accuracy: 0.3826 - val_loss: 1.2177\n",
            "Epoch 3/300\n",
            "\u001b[1m71/71\u001b[0m \u001b[32m━━━━━━━━━━━━━━━━━━━━\u001b[0m\u001b[37m\u001b[0m \u001b[1m11s\u001b[0m 155ms/step - accuracy: 0.4380 - loss: 1.1632 - val_accuracy: 0.4622 - val_loss: 1.1413\n",
            "Epoch 4/300\n",
            "\u001b[1m71/71\u001b[0m \u001b[32m━━━━━━━━━━━━━━━━━━━━\u001b[0m\u001b[37m\u001b[0m \u001b[1m11s\u001b[0m 149ms/step - accuracy: 0.5111 - loss: 1.0588 - val_accuracy: 0.4655 - val_loss: 1.1148\n",
            "Epoch 5/300\n",
            "\u001b[1m71/71\u001b[0m \u001b[32m━━━━━━━━━━━━━━━━━━━━\u001b[0m\u001b[37m\u001b[0m \u001b[1m11s\u001b[0m 149ms/step - accuracy: 0.5565 - loss: 0.9715 - val_accuracy: 0.5103 - val_loss: 1.1015\n",
            "Epoch 6/300\n",
            "\u001b[1m71/71\u001b[0m \u001b[32m━━━━━━━━━━━━━━━━━━━━\u001b[0m\u001b[37m\u001b[0m \u001b[1m10s\u001b[0m 147ms/step - accuracy: 0.6109 - loss: 0.8934 - val_accuracy: 0.4882 - val_loss: 1.1080\n",
            "Epoch 7/300\n",
            "\u001b[1m71/71\u001b[0m \u001b[32m━━━━━━━━━━━━━━━━━━━━\u001b[0m\u001b[37m\u001b[0m \u001b[1m10s\u001b[0m 142ms/step - accuracy: 0.6615 - loss: 0.8137 - val_accuracy: 0.4829 - val_loss: 1.1325\n",
            "Epoch 8/300\n",
            "\u001b[1m71/71\u001b[0m \u001b[32m━━━━━━━━━━━━━━━━━━━━\u001b[0m\u001b[37m\u001b[0m \u001b[1m10s\u001b[0m 145ms/step - accuracy: 0.7066 - loss: 0.7183 - val_accuracy: 0.4825 - val_loss: 1.1549\n",
            "142/142 - 1s - 4ms/step - accuracy: 0.4825 - loss: 1.1549\n"
          ]
        }
      ],
      "source": [
        "X_train, y_train = train_df.content, train_df.sentiment.cat.codes\n",
        "X_test,  y_test  =  test_df.content,  test_df.sentiment.cat.codes\n",
        "\n",
        "# Convert Pandas Series to NumPy arrays\n",
        "X_train_np = X_train.values\n",
        "y_train_np = y_train.values\n",
        "\n",
        "# Fit the model with NumPy arrays\n",
        "history = model.fit(\n",
        "    x=X_train_np,\n",
        "    y=y_train_np,\n",
        "    validation_data=(X_test, y_test),\n",
        "    batch_size=256,\n",
        "    epochs=300,\n",
        "    verbose=1,\n",
        "    class_weight=class_weights,\n",
        "    callbacks=[keras.callbacks.EarlyStopping(patience=3)],\n",
        ")\n",
        "test_loss, test_acc = model.evaluate(X_test, y_test, verbose=2)"
      ]
    },
    {
      "cell_type": "code",
      "execution_count": 64,
      "metadata": {
        "colab": {
          "base_uri": "https://localhost:8080/",
          "height": 468
        },
        "id": "w83PcprsSv95",
        "outputId": "f53fa101-2526-4f71-ae4e-8a3a35f8efa7"
      },
      "outputs": [
        {
          "data": {
            "image/png": "[encoded data removed]",
            "text/plain": [
              "<Figure size 1200x500 with 2 Axes>"
            ]
          },
          "metadata": {},
          "output_type": "display_data"
        }
      ],
      "source": [
        "def plot_history(history):\n",
        "    acc,  val_acc  = history['accuracy'],  history['val_accuracy']\n",
        "    loss, val_loss = history['loss'], history['val_loss']\n",
        "    x = range(1, len(acc) + 1)\n",
        "\n",
        "    plt.figure(figsize=(12, 5)); plt.subplot(1, 2, 1)\n",
        "\n",
        "    plt.plot(x, acc, 'b', label='Training acc')\n",
        "    plt.plot(x, val_acc, 'r', label='Validation acc')\n",
        "    plt.title('Training and validation accuracy'); plt.legend(); plt.subplot(1, 2, 2)\n",
        "\n",
        "    plt.plot(x, loss, 'b', label='Training loss')\n",
        "    plt.plot(x, val_loss, 'r', label='Validation loss')\n",
        "    plt.title('Training and validation loss'); plt.legend(); plt.show()\n",
        "\n",
        "plot_history(history.history)"
      ]
    },
    {
      "cell_type": "code",
      "execution_count": 65,
      "metadata": {
        "colab": {
          "base_uri": "https://localhost:8080/",
          "height": 678
        },
        "id": "RUJwuVLRS4ON",
        "outputId": "3d3f86f1-2eb2-439b-952d-8a451168c9e7"
      },
      "outputs": [
        {
          "name": "stdout",
          "output_type": "stream",
          "text": [
            "\u001b[1m142/142\u001b[0m \u001b[32m━━━━━━━━━━━━━━━━━━━━\u001b[0m\u001b[37m\u001b[0m \u001b[1m1s\u001b[0m 5ms/step\n",
            "              precision    recall  f1-score   support\n",
            "\n",
            "   happiness       0.47      0.50      0.49      1062\n",
            "        love       0.50      0.50      0.50       786\n",
            "     sadness       0.41      0.45      0.43      1023\n",
            "       worry       0.54      0.48      0.51      1664\n",
            "\n",
            "    accuracy                           0.48      4535\n",
            "   macro avg       0.48      0.48      0.48      4535\n",
            "weighted avg       0.49      0.48      0.48      4535\n",
            "\n"
          ]
        },
        {
          "data": {
            "text/plain": [
              "<sklearn.metrics._plot.confusion_matrix.ConfusionMatrixDisplay at 0x279a1a75bb0>"
            ]
          },
          "execution_count": 65,
          "metadata": {},
          "output_type": "execute_result"
        },
        {
          "data": {
            "image/png": "[encoded data removed]",
            "text/plain": [
              "<Figure size 640x480 with 2 Axes>"
            ]
          },
          "metadata": {},
          "output_type": "display_data"
        }
      ],
      "source": [
        "y_pred = model.predict(X_test).argmax(1)\n",
        "\n",
        "print(classification_report(\n",
        "    y_test, y_pred, target_names= sentiment_names\n",
        "))\n",
        "ConfusionMatrixDisplay.from_predictions(\n",
        "    y_test, y_pred, display_labels = sentiment_names\n",
        ")"
      ]
    }
  ],
  "metadata": {
    "colab": {
      "provenance": []
    },
    "kernelspec": {
      "display_name": "Python 3",
      "name": "python3"
    },
    "language_info": {
      "codemirror_mode": {
        "name": "ipython",
        "version": 3
      },
      "file_extension": ".py",
      "mimetype": "text/x-python",
      "name": "python",
      "nbconvert_exporter": "python",
      "pygments_lexer": "ipython3",
      "version": "3.12.3"
    }
  },
  "nbformat": 4,
  "nbformat_minor": 0
}
